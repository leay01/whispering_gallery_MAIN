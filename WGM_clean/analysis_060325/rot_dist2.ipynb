{
 "cells": [
  {
   "cell_type": "code",
   "execution_count": 2,
   "metadata": {},
   "outputs": [
    {
     "name": "stdout",
     "output_type": "stream",
     "text": [
      "/Users/leayamashiro/whispering_gallery_MAIN/WGM_clean\n"
     ]
    }
   ],
   "source": [
    "cd /Users/leayamashiro/whispering_gallery_MAIN/WGM_clean"
   ]
  },
  {
   "cell_type": "code",
   "execution_count": 3,
   "metadata": {},
   "outputs": [],
   "source": [
    "import numpy as np\n",
    "import pandas as pd \n",
    "import cmath \n",
    "import glob\n",
    "import scipy.special as sp\n",
    "import scipy.signal as spg\n",
    "import scipy.constants as const\n",
    "import matplotlib.pyplot as plt\n",
    "plt.style.use('dark_background')\n",
    "plt.rcParams['axes.labelsize'] = 18\n",
    "plt.rcParams['axes.titlesize'] = 24\n",
    "plt.rcParams['legend.fontsize'] = 8\n",
    "#import VNA_data_read_local as vdr\n",
    "\n",
    "\n",
    "import sys\n",
    "sys.path.append('/Users/leayamashiro/whispering_gallery_MAIN/wgm_code/Q_fac_analysis/')\n",
    "import useful_functions as uf\n",
    "#sys.path.append('/Users/leayamashiro/whispering_gallery_MAIN/WGM_clean/analysis_060225')\n",
    "import VNA_data_read_local as vdr"
   ]
  },
  {
   "cell_type": "code",
   "execution_count": null,
   "metadata": {},
   "outputs": [],
   "source": [
    "def single_loader2(filename): # just to load in data and fix the parentheses and complex data\n",
    "    folder_path = '/Users/leayamashiro/whispering_gallery_MAIN/whispering_gallery/data/dist_rot_data_060325/rotation_distance_data_060325/'\n",
    "    data = pd.read_csv(folder_path + filename)\n",
    "    data['Complex (decimal)'] = data['Complex (decimal)'].str.replace(r'[()]', '', regex=True).apply(complex)\n",
    "    return data\n",
    "\n",
    "\n"
   ]
  },
  {
   "cell_type": "code",
   "execution_count": 4,
   "metadata": {},
   "outputs": [],
   "source": [
    "rot1_2 = glob.glob('/Users/leayamashiro/whispering_gallery_MAIN/whispering_gallery/data/dist_rot_data_060325/rotation_distance_data_060325/rot1_2/*.txt')"
   ]
  },
  {
   "cell_type": "code",
   "execution_count": 5,
   "metadata": {},
   "outputs": [
    {
     "data": {
      "text/plain": [
       "['/Users/leayamashiro/whispering_gallery_MAIN/whispering_gallery/data/dist_rot_data_060325/rotation_distance_data_060325/rot1_2/rot1_2_7.5mm_6.18to9.86GHz_2025-06-03_17-40-12.txt',\n",
       " '/Users/leayamashiro/whispering_gallery_MAIN/whispering_gallery/data/dist_rot_data_060325/rotation_distance_data_060325/rot1_2/rot1_SC_2.5to6.18GHz_2025-06-03_17-44-11.txt',\n",
       " '/Users/leayamashiro/whispering_gallery_MAIN/whispering_gallery/data/dist_rot_data_060325/rotation_distance_data_060325/rot1_2/rot1_SC_6.18to9.86GHz_2025-06-03_17-45-27.txt',\n",
       " '/Users/leayamashiro/whispering_gallery_MAIN/whispering_gallery/data/dist_rot_data_060325/rotation_distance_data_060325/rot1_2/rot1_2_5mm_6.18to9.86GHz_2025-06-03_17-37-36.txt',\n",
       " '/Users/leayamashiro/whispering_gallery_MAIN/whispering_gallery/data/dist_rot_data_060325/rotation_distance_data_060325/rot1_2/rot1_2_5mm_2.5to6.18GHz_2025-06-03_17-36-26.txt',\n",
       " '/Users/leayamashiro/whispering_gallery_MAIN/whispering_gallery/data/dist_rot_data_060325/rotation_distance_data_060325/rot1_2/rot1_2_1mm_2.5to6.18GHz_2025-06-03_17-28-04.txt',\n",
       " '/Users/leayamashiro/whispering_gallery_MAIN/whispering_gallery/data/dist_rot_data_060325/rotation_distance_data_060325/rot1_2/rot1_2_7.5mm_2.5to6.18GHz_2025-06-03_17-41-26.txt',\n",
       " '/Users/leayamashiro/whispering_gallery_MAIN/whispering_gallery/data/dist_rot_data_060325/rotation_distance_data_060325/rot1_2/rot1_2_2.5mm_6.18to9.86GHz_2025-06-03_17-32-54.txt',\n",
       " '/Users/leayamashiro/whispering_gallery_MAIN/whispering_gallery/data/dist_rot_data_060325/rotation_distance_data_060325/rot1_2/rot1_2_2.5mm_2.5to6.18GHz_2025-06-03_17-33-53.txt',\n",
       " '/Users/leayamashiro/whispering_gallery_MAIN/whispering_gallery/data/dist_rot_data_060325/rotation_distance_data_060325/rot1_2/rot1_2_1mm_6.18to9.86GHz_2025-06-03_17-30-09.txt']"
      ]
     },
     "execution_count": 5,
     "metadata": {},
     "output_type": "execute_result"
    }
   ],
   "source": [
    "rot1_2"
   ]
  },
  {
   "cell_type": "markdown",
   "metadata": {},
   "source": [
    "#### Just doing the 2.5 to 6.18 GHz right now"
   ]
  },
  {
   "cell_type": "code",
   "execution_count": 6,
   "metadata": {},
   "outputs": [
    {
     "name": "stdout",
     "output_type": "stream",
     "text": [
      "\u001b[0;31mSignature:\u001b[0m \u001b[0mvdr\u001b[0m\u001b[0;34m.\u001b[0m\u001b[0mload_subtract_getfreqs\u001b[0m\u001b[0;34m(\u001b[0m\u001b[0mbaseline_filename\u001b[0m\u001b[0;34m,\u001b[0m \u001b[0mdisk_res_filename\u001b[0m\u001b[0;34m,\u001b[0m \u001b[0mfolder\u001b[0m\u001b[0;34m)\u001b[0m\u001b[0;34m\u001b[0m\u001b[0;34m\u001b[0m\u001b[0m\n",
      "\u001b[0;31mDocstring:\u001b[0m <no docstring>\n",
      "\u001b[0;31mFile:\u001b[0m      ~/whispering_gallery_MAIN/WGM_clean/analysis_060325/VNA_data_read_local.py\n",
      "\u001b[0;31mType:\u001b[0m      function"
     ]
    }
   ],
   "source": [
    "vdr.load_subtract_getfreqs?"
   ]
  },
  {
   "cell_type": "code",
   "execution_count": null,
   "metadata": {},
   "outputs": [],
   "source": []
  },
  {
   "cell_type": "code",
   "execution_count": 9,
   "metadata": {},
   "outputs": [
    {
     "ename": "FileNotFoundError",
     "evalue": "[Errno 2] No such file or directory: '/Users/leayamashiro/whispering_gallery_MAIN/whispering_gallery/data/dist_rot_data_060325/rotation_distance_data_060325/rot1_2/baseline1_060325_2.5to6.18GHz_2025-06-03_15-52-59.txt'",
     "output_type": "error",
     "traceback": [
      "\u001b[0;31m---------------------------------------------------------------------------\u001b[0m",
      "\u001b[0;31mFileNotFoundError\u001b[0m                         Traceback (most recent call last)",
      "Cell \u001b[0;32mIn[9], line 1\u001b[0m\n\u001b[0;32m----> 1\u001b[0m rot1_SC \u001b[38;5;241m=\u001b[39m vdr\u001b[38;5;241m.\u001b[39mload_subtract_getfreqs(\u001b[38;5;124m'\u001b[39m\u001b[38;5;124mbaseline1_060325_2.5to6.18GHz_2025-06-03_15-52-59.txt\u001b[39m\u001b[38;5;124m'\u001b[39m, \n\u001b[1;32m      2\u001b[0m                                        \u001b[38;5;124m'\u001b[39m\u001b[38;5;124mrot1_SC_2.5to6.18GHz_2025-06-03_17-44-11.txt\u001b[39m\u001b[38;5;124m'\u001b[39m, \n\u001b[1;32m      3\u001b[0m                                        \u001b[38;5;124m'\u001b[39m\u001b[38;5;124mdata/dist_rot_data_060325/rotation_distance_data_060325/rot1_2\u001b[39m\u001b[38;5;124m'\u001b[39m)\n\u001b[1;32m      5\u001b[0m rot1_1p0 \u001b[38;5;241m=\u001b[39m vdr\u001b[38;5;241m.\u001b[39mload_subtract_getfreqs(\u001b[38;5;124m'\u001b[39m\u001b[38;5;124mbaseline1_060325_2.5to6.18GHz_2025-06-03_15-52-59.txt\u001b[39m\u001b[38;5;124m'\u001b[39m, \n\u001b[1;32m      6\u001b[0m                                        \u001b[38;5;124m'\u001b[39m\u001b[38;5;124mrot1_2_1mm_2.5to6.18GHz_2025-06-03_17-28-04.txt\u001b[39m\u001b[38;5;124m'\u001b[39m, \n\u001b[1;32m      7\u001b[0m                                        \u001b[38;5;124m'\u001b[39m\u001b[38;5;124mdata/dist_rot_data_060325/rotation_distance_data_060325/rot1_2\u001b[39m\u001b[38;5;124m'\u001b[39m)\n\u001b[1;32m      9\u001b[0m rot1_2p5 \u001b[38;5;241m=\u001b[39m vdr\u001b[38;5;241m.\u001b[39mload_subtract_getfreqs(\u001b[38;5;124m'\u001b[39m\u001b[38;5;124mbaseline1_060325_2.5to6.18GHz_2025-06-03_15-52-59.txt\u001b[39m\u001b[38;5;124m'\u001b[39m, \n\u001b[1;32m     10\u001b[0m                                        \u001b[38;5;124m'\u001b[39m\u001b[38;5;124mrot1_2_2.5mm_2.5to6.18GHz_2025-06-03_17-33-53.txt\u001b[39m\u001b[38;5;124m'\u001b[39m, \n\u001b[1;32m     11\u001b[0m                                        \u001b[38;5;124m'\u001b[39m\u001b[38;5;124mdata/dist_rot_data_060325/rotation_distance_data_060325/rot1_2\u001b[39m\u001b[38;5;124m'\u001b[39m)\n",
      "File \u001b[0;32m~/whispering_gallery_MAIN/WGM_clean/analysis_060325/VNA_data_read_local.py:92\u001b[0m, in \u001b[0;36mload_subtract_getfreqs\u001b[0;34m(baseline_filename, disk_res_filename, folder)\u001b[0m\n\u001b[1;32m     89\u001b[0m \u001b[38;5;28;01mdef\u001b[39;00m \u001b[38;5;21mload_subtract_getfreqs\u001b[39m(baseline_filename, disk_res_filename, folder): \n\u001b[1;32m     90\u001b[0m     \u001b[38;5;66;03m# loading in\u001b[39;00m\n\u001b[1;32m     91\u001b[0m     folder_path \u001b[38;5;241m=\u001b[39m \u001b[38;5;124m'\u001b[39m\u001b[38;5;124m/Users/leayamashiro/whispering_gallery_MAIN/whispering_gallery/\u001b[39m\u001b[38;5;124m'\u001b[39m \u001b[38;5;241m+\u001b[39m folder \u001b[38;5;241m+\u001b[39m \u001b[38;5;124m'\u001b[39m\u001b[38;5;124m/\u001b[39m\u001b[38;5;124m'\u001b[39m\n\u001b[0;32m---> 92\u001b[0m     baseline_data \u001b[38;5;241m=\u001b[39m pd\u001b[38;5;241m.\u001b[39mread_csv(folder_path \u001b[38;5;241m+\u001b[39m baseline_filename)\n\u001b[1;32m     93\u001b[0m     baseline_data[\u001b[38;5;124m'\u001b[39m\u001b[38;5;124mComplex (decimal)\u001b[39m\u001b[38;5;124m'\u001b[39m] \u001b[38;5;241m=\u001b[39m baseline_data[\u001b[38;5;124m'\u001b[39m\u001b[38;5;124mComplex (decimal)\u001b[39m\u001b[38;5;124m'\u001b[39m]\u001b[38;5;241m.\u001b[39mstr\u001b[38;5;241m.\u001b[39mreplace(\u001b[38;5;124mr\u001b[39m\u001b[38;5;124m'\u001b[39m\u001b[38;5;124m[()]\u001b[39m\u001b[38;5;124m'\u001b[39m, \u001b[38;5;124m'\u001b[39m\u001b[38;5;124m'\u001b[39m, regex\u001b[38;5;241m=\u001b[39m\u001b[38;5;28;01mTrue\u001b[39;00m)\u001b[38;5;241m.\u001b[39mapply(\u001b[38;5;28mcomplex\u001b[39m)\n\u001b[1;32m     94\u001b[0m     disk_resonance_data \u001b[38;5;241m=\u001b[39m pd\u001b[38;5;241m.\u001b[39mread_csv(folder_path \u001b[38;5;241m+\u001b[39m disk_res_filename)\n",
      "File \u001b[0;32m~/anaconda3/lib/python3.11/site-packages/pandas/io/parsers/readers.py:912\u001b[0m, in \u001b[0;36mread_csv\u001b[0;34m(filepath_or_buffer, sep, delimiter, header, names, index_col, usecols, dtype, engine, converters, true_values, false_values, skipinitialspace, skiprows, skipfooter, nrows, na_values, keep_default_na, na_filter, verbose, skip_blank_lines, parse_dates, infer_datetime_format, keep_date_col, date_parser, date_format, dayfirst, cache_dates, iterator, chunksize, compression, thousands, decimal, lineterminator, quotechar, quoting, doublequote, escapechar, comment, encoding, encoding_errors, dialect, on_bad_lines, delim_whitespace, low_memory, memory_map, float_precision, storage_options, dtype_backend)\u001b[0m\n\u001b[1;32m    899\u001b[0m kwds_defaults \u001b[38;5;241m=\u001b[39m _refine_defaults_read(\n\u001b[1;32m    900\u001b[0m     dialect,\n\u001b[1;32m    901\u001b[0m     delimiter,\n\u001b[0;32m   (...)\u001b[0m\n\u001b[1;32m    908\u001b[0m     dtype_backend\u001b[38;5;241m=\u001b[39mdtype_backend,\n\u001b[1;32m    909\u001b[0m )\n\u001b[1;32m    910\u001b[0m kwds\u001b[38;5;241m.\u001b[39mupdate(kwds_defaults)\n\u001b[0;32m--> 912\u001b[0m \u001b[38;5;28;01mreturn\u001b[39;00m _read(filepath_or_buffer, kwds)\n",
      "File \u001b[0;32m~/anaconda3/lib/python3.11/site-packages/pandas/io/parsers/readers.py:577\u001b[0m, in \u001b[0;36m_read\u001b[0;34m(filepath_or_buffer, kwds)\u001b[0m\n\u001b[1;32m    574\u001b[0m _validate_names(kwds\u001b[38;5;241m.\u001b[39mget(\u001b[38;5;124m\"\u001b[39m\u001b[38;5;124mnames\u001b[39m\u001b[38;5;124m\"\u001b[39m, \u001b[38;5;28;01mNone\u001b[39;00m))\n\u001b[1;32m    576\u001b[0m \u001b[38;5;66;03m# Create the parser.\u001b[39;00m\n\u001b[0;32m--> 577\u001b[0m parser \u001b[38;5;241m=\u001b[39m TextFileReader(filepath_or_buffer, \u001b[38;5;241m*\u001b[39m\u001b[38;5;241m*\u001b[39mkwds)\n\u001b[1;32m    579\u001b[0m \u001b[38;5;28;01mif\u001b[39;00m chunksize \u001b[38;5;129;01mor\u001b[39;00m iterator:\n\u001b[1;32m    580\u001b[0m     \u001b[38;5;28;01mreturn\u001b[39;00m parser\n",
      "File \u001b[0;32m~/anaconda3/lib/python3.11/site-packages/pandas/io/parsers/readers.py:1407\u001b[0m, in \u001b[0;36mTextFileReader.__init__\u001b[0;34m(self, f, engine, **kwds)\u001b[0m\n\u001b[1;32m   1404\u001b[0m     \u001b[38;5;28mself\u001b[39m\u001b[38;5;241m.\u001b[39moptions[\u001b[38;5;124m\"\u001b[39m\u001b[38;5;124mhas_index_names\u001b[39m\u001b[38;5;124m\"\u001b[39m] \u001b[38;5;241m=\u001b[39m kwds[\u001b[38;5;124m\"\u001b[39m\u001b[38;5;124mhas_index_names\u001b[39m\u001b[38;5;124m\"\u001b[39m]\n\u001b[1;32m   1406\u001b[0m \u001b[38;5;28mself\u001b[39m\u001b[38;5;241m.\u001b[39mhandles: IOHandles \u001b[38;5;241m|\u001b[39m \u001b[38;5;28;01mNone\u001b[39;00m \u001b[38;5;241m=\u001b[39m \u001b[38;5;28;01mNone\u001b[39;00m\n\u001b[0;32m-> 1407\u001b[0m \u001b[38;5;28mself\u001b[39m\u001b[38;5;241m.\u001b[39m_engine \u001b[38;5;241m=\u001b[39m \u001b[38;5;28mself\u001b[39m\u001b[38;5;241m.\u001b[39m_make_engine(f, \u001b[38;5;28mself\u001b[39m\u001b[38;5;241m.\u001b[39mengine)\n",
      "File \u001b[0;32m~/anaconda3/lib/python3.11/site-packages/pandas/io/parsers/readers.py:1661\u001b[0m, in \u001b[0;36mTextFileReader._make_engine\u001b[0;34m(self, f, engine)\u001b[0m\n\u001b[1;32m   1659\u001b[0m     \u001b[38;5;28;01mif\u001b[39;00m \u001b[38;5;124m\"\u001b[39m\u001b[38;5;124mb\u001b[39m\u001b[38;5;124m\"\u001b[39m \u001b[38;5;129;01mnot\u001b[39;00m \u001b[38;5;129;01min\u001b[39;00m mode:\n\u001b[1;32m   1660\u001b[0m         mode \u001b[38;5;241m+\u001b[39m\u001b[38;5;241m=\u001b[39m \u001b[38;5;124m\"\u001b[39m\u001b[38;5;124mb\u001b[39m\u001b[38;5;124m\"\u001b[39m\n\u001b[0;32m-> 1661\u001b[0m \u001b[38;5;28mself\u001b[39m\u001b[38;5;241m.\u001b[39mhandles \u001b[38;5;241m=\u001b[39m get_handle(\n\u001b[1;32m   1662\u001b[0m     f,\n\u001b[1;32m   1663\u001b[0m     mode,\n\u001b[1;32m   1664\u001b[0m     encoding\u001b[38;5;241m=\u001b[39m\u001b[38;5;28mself\u001b[39m\u001b[38;5;241m.\u001b[39moptions\u001b[38;5;241m.\u001b[39mget(\u001b[38;5;124m\"\u001b[39m\u001b[38;5;124mencoding\u001b[39m\u001b[38;5;124m\"\u001b[39m, \u001b[38;5;28;01mNone\u001b[39;00m),\n\u001b[1;32m   1665\u001b[0m     compression\u001b[38;5;241m=\u001b[39m\u001b[38;5;28mself\u001b[39m\u001b[38;5;241m.\u001b[39moptions\u001b[38;5;241m.\u001b[39mget(\u001b[38;5;124m\"\u001b[39m\u001b[38;5;124mcompression\u001b[39m\u001b[38;5;124m\"\u001b[39m, \u001b[38;5;28;01mNone\u001b[39;00m),\n\u001b[1;32m   1666\u001b[0m     memory_map\u001b[38;5;241m=\u001b[39m\u001b[38;5;28mself\u001b[39m\u001b[38;5;241m.\u001b[39moptions\u001b[38;5;241m.\u001b[39mget(\u001b[38;5;124m\"\u001b[39m\u001b[38;5;124mmemory_map\u001b[39m\u001b[38;5;124m\"\u001b[39m, \u001b[38;5;28;01mFalse\u001b[39;00m),\n\u001b[1;32m   1667\u001b[0m     is_text\u001b[38;5;241m=\u001b[39mis_text,\n\u001b[1;32m   1668\u001b[0m     errors\u001b[38;5;241m=\u001b[39m\u001b[38;5;28mself\u001b[39m\u001b[38;5;241m.\u001b[39moptions\u001b[38;5;241m.\u001b[39mget(\u001b[38;5;124m\"\u001b[39m\u001b[38;5;124mencoding_errors\u001b[39m\u001b[38;5;124m\"\u001b[39m, \u001b[38;5;124m\"\u001b[39m\u001b[38;5;124mstrict\u001b[39m\u001b[38;5;124m\"\u001b[39m),\n\u001b[1;32m   1669\u001b[0m     storage_options\u001b[38;5;241m=\u001b[39m\u001b[38;5;28mself\u001b[39m\u001b[38;5;241m.\u001b[39moptions\u001b[38;5;241m.\u001b[39mget(\u001b[38;5;124m\"\u001b[39m\u001b[38;5;124mstorage_options\u001b[39m\u001b[38;5;124m\"\u001b[39m, \u001b[38;5;28;01mNone\u001b[39;00m),\n\u001b[1;32m   1670\u001b[0m )\n\u001b[1;32m   1671\u001b[0m \u001b[38;5;28;01massert\u001b[39;00m \u001b[38;5;28mself\u001b[39m\u001b[38;5;241m.\u001b[39mhandles \u001b[38;5;129;01mis\u001b[39;00m \u001b[38;5;129;01mnot\u001b[39;00m \u001b[38;5;28;01mNone\u001b[39;00m\n\u001b[1;32m   1672\u001b[0m f \u001b[38;5;241m=\u001b[39m \u001b[38;5;28mself\u001b[39m\u001b[38;5;241m.\u001b[39mhandles\u001b[38;5;241m.\u001b[39mhandle\n",
      "File \u001b[0;32m~/anaconda3/lib/python3.11/site-packages/pandas/io/common.py:859\u001b[0m, in \u001b[0;36mget_handle\u001b[0;34m(path_or_buf, mode, encoding, compression, memory_map, is_text, errors, storage_options)\u001b[0m\n\u001b[1;32m    854\u001b[0m \u001b[38;5;28;01melif\u001b[39;00m \u001b[38;5;28misinstance\u001b[39m(handle, \u001b[38;5;28mstr\u001b[39m):\n\u001b[1;32m    855\u001b[0m     \u001b[38;5;66;03m# Check whether the filename is to be opened in binary mode.\u001b[39;00m\n\u001b[1;32m    856\u001b[0m     \u001b[38;5;66;03m# Binary mode does not support 'encoding' and 'newline'.\u001b[39;00m\n\u001b[1;32m    857\u001b[0m     \u001b[38;5;28;01mif\u001b[39;00m ioargs\u001b[38;5;241m.\u001b[39mencoding \u001b[38;5;129;01mand\u001b[39;00m \u001b[38;5;124m\"\u001b[39m\u001b[38;5;124mb\u001b[39m\u001b[38;5;124m\"\u001b[39m \u001b[38;5;129;01mnot\u001b[39;00m \u001b[38;5;129;01min\u001b[39;00m ioargs\u001b[38;5;241m.\u001b[39mmode:\n\u001b[1;32m    858\u001b[0m         \u001b[38;5;66;03m# Encoding\u001b[39;00m\n\u001b[0;32m--> 859\u001b[0m         handle \u001b[38;5;241m=\u001b[39m \u001b[38;5;28mopen\u001b[39m(\n\u001b[1;32m    860\u001b[0m             handle,\n\u001b[1;32m    861\u001b[0m             ioargs\u001b[38;5;241m.\u001b[39mmode,\n\u001b[1;32m    862\u001b[0m             encoding\u001b[38;5;241m=\u001b[39mioargs\u001b[38;5;241m.\u001b[39mencoding,\n\u001b[1;32m    863\u001b[0m             errors\u001b[38;5;241m=\u001b[39merrors,\n\u001b[1;32m    864\u001b[0m             newline\u001b[38;5;241m=\u001b[39m\u001b[38;5;124m\"\u001b[39m\u001b[38;5;124m\"\u001b[39m,\n\u001b[1;32m    865\u001b[0m         )\n\u001b[1;32m    866\u001b[0m     \u001b[38;5;28;01melse\u001b[39;00m:\n\u001b[1;32m    867\u001b[0m         \u001b[38;5;66;03m# Binary mode\u001b[39;00m\n\u001b[1;32m    868\u001b[0m         handle \u001b[38;5;241m=\u001b[39m \u001b[38;5;28mopen\u001b[39m(handle, ioargs\u001b[38;5;241m.\u001b[39mmode)\n",
      "\u001b[0;31mFileNotFoundError\u001b[0m: [Errno 2] No such file or directory: '/Users/leayamashiro/whispering_gallery_MAIN/whispering_gallery/data/dist_rot_data_060325/rotation_distance_data_060325/rot1_2/baseline1_060325_2.5to6.18GHz_2025-06-03_15-52-59.txt'"
     ]
    }
   ],
   "source": [
    "rot1_SC = vdr.load_subtract_getfreqs('baseline1_060325_2.5to6.18GHz_2025-06-03_15-52-59.txt', \n",
    "                                       'rot1_SC_2.5to6.18GHz_2025-06-03_17-44-11.txt', \n",
    "                                       'data/dist_rot_data_060325/rotation_distance_data_060325/rot1_2')\n",
    "\n",
    "rot1_1p0 = vdr.load_subtract_getfreqs('baseline1_060325_2.5to6.18GHz_2025-06-03_15-52-59.txt', \n",
    "                                       'rot1_2_1mm_2.5to6.18GHz_2025-06-03_17-28-04.txt', \n",
    "                                       'data/dist_rot_data_060325/rotation_distance_data_060325/rot1_2')\n",
    "\n",
    "rot1_2p5 = vdr.load_subtract_getfreqs('baseline1_060325_2.5to6.18GHz_2025-06-03_15-52-59.txt', \n",
    "                                       'rot1_2_2.5mm_2.5to6.18GHz_2025-06-03_17-33-53.txt', \n",
    "                                       'data/dist_rot_data_060325/rotation_distance_data_060325/rot1_2')\n",
    "\n",
    "rot1_5p0 = vdr.load_subtract_getfreqs('baseline1_060325_2.5to6.18GHz_2025-06-03_15-52-59.txt', \n",
    "                                       'rot1_2_5mm_2.5to6.18GHz_2025-06-03_17-36-26.txt', \n",
    "                                       'data/dist_rot_data_060325/rotation_distance_data_060325/rot1_2')\n",
    "\n",
    "rot1_7p5 = vdr.load_subtract_getfreqs('baseline1_060325_2.5to6.18GHz_2025-06-03_15-52-59.txt', \n",
    "                                       'rot1_2_7.5mm_2.5to6.18GHz_2025-06-03_17-41-26.txt', \n",
    "                                       'data/dist_rot_data_060325/rotation_distance_data_060325/rot1_2')"
   ]
  },
  {
   "cell_type": "code",
   "execution_count": null,
   "metadata": {},
   "outputs": [],
   "source": [
    "whispering_gallery/data/dist_rot_data_060325/rotation_distance_data_060325"
   ]
  }
 ],
 "metadata": {
  "kernelspec": {
   "display_name": "base",
   "language": "python",
   "name": "python3"
  },
  "language_info": {
   "codemirror_mode": {
    "name": "ipython",
    "version": 3
   },
   "file_extension": ".py",
   "mimetype": "text/x-python",
   "name": "python",
   "nbconvert_exporter": "python",
   "pygments_lexer": "ipython3",
   "version": "3.11.5"
  }
 },
 "nbformat": 4,
 "nbformat_minor": 2
}

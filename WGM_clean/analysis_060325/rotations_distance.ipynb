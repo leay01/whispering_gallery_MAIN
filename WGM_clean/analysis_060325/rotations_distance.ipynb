{
 "cells": [
  {
   "cell_type": "code",
   "execution_count": 4,
   "metadata": {},
   "outputs": [
    {
     "data": {
      "text/plain": [
       "['/Users/leayamashiro/whispering_gallery_MAIN/whispering_gallery/data/dist_rot_data_060325/rot1_5mm_2.5to6.18GHz_2025-06-03_15-47-10.txt',\n",
       " '/Users/leayamashiro/whispering_gallery_MAIN/whispering_gallery/data/dist_rot_data_060325/rot1_2.5mm_2.5to6.18GHz_2025-06-03_15-45-09.txt',\n",
       " '/Users/leayamashiro/whispering_gallery_MAIN/whispering_gallery/data/dist_rot_data_060325/baseline1_060325_2.5to6.18GHz_2025-06-03_15-52-59.txt',\n",
       " '/Users/leayamashiro/whispering_gallery_MAIN/whispering_gallery/data/dist_rot_data_060325/rot1_10mm_2.5to6.18GHz_2025-06-03_15-51-29.txt',\n",
       " '/Users/leayamashiro/whispering_gallery_MAIN/whispering_gallery/data/dist_rot_data_060325/rot1_7.5mm_2.5to6.18GHz_2025-06-03_15-49-54.txt']"
      ]
     },
     "execution_count": 4,
     "metadata": {},
     "output_type": "execute_result"
    }
   ],
   "source": [
    "import numpy as np\n",
    "import pandas as pd \n",
    "import cmath \n",
    "import glob\n",
    "import scipy.special as sp\n",
    "import scipy.signal as spg\n",
    "import scipy.constants as const\n",
    "import matplotlib.pyplot as plt\n",
    "plt.style.use('dark_background')\n",
    "plt.rcParams['axes.labelsize'] = 18\n",
    "plt.rcParams['axes.titlesize'] = 24\n",
    "plt.rcParams['legend.fontsize'] = 8\n",
    "#import VNA_data_read_local as vdr\n",
    "\n",
    "\n",
    "import sys\n",
    "sys.path.append('/Users/leayamashiro/whispering_gallery_MAIN/wgm_code/Q_fac_analysis/')\n",
    "import useful_functions as uf\n",
    "sys.path.append('/Users/leayamashiro/whispering_gallery_MAIN/WGM_clean/analysis_060225')\n",
    "import VNA_data_read_local as vdr\n",
    "# loading file folder\n",
    "rot_060225 = glob.glob('/Users/leayamashiro/whispering_gallery_MAIN/whispering_gallery/data/dist_rot_data_060325/*.txt')\n",
    "rot_060225"
   ]
  },
  {
   "cell_type": "code",
   "execution_count": 5,
   "metadata": {},
   "outputs": [
    {
     "ename": "TypeError",
     "evalue": "loader_plotter() got an unexpected keyword argument 'title'",
     "output_type": "error",
     "traceback": [
      "\u001b[0;31m---------------------------------------------------------------------------\u001b[0m",
      "\u001b[0;31mTypeError\u001b[0m                                 Traceback (most recent call last)",
      "Cell \u001b[0;32mIn[5], line 1\u001b[0m\n\u001b[0;32m----> 1\u001b[0m baseline, rot1_2p5 \u001b[38;5;241m=\u001b[39m vdr\u001b[38;5;241m.\u001b[39mloader_plotter(\u001b[38;5;124m'\u001b[39m\u001b[38;5;124mrot1_2.5mm_2.5to6.18GHz_2025-06-03_15-45-09.txt\u001b[39m\u001b[38;5;124m'\u001b[39m, \n\u001b[1;32m      2\u001b[0m                                     \u001b[38;5;124m'\u001b[39m\u001b[38;5;124mrot1_2.4to5.6GHz_2025-06-02_17-23-08.txt\u001b[39m\u001b[38;5;124m'\u001b[39m, \n\u001b[1;32m      3\u001b[0m                                     \u001b[38;5;124m'\u001b[39m\u001b[38;5;124mdata/rotation_data_060225\u001b[39m\u001b[38;5;124m'\u001b[39m, title \u001b[38;5;241m=\u001b[39m \u001b[38;5;124m'\u001b[39m\u001b[38;5;124m2.5 mm\u001b[39m\u001b[38;5;124m'\u001b[39m)\n\u001b[1;32m      5\u001b[0m baseline, rot1_5p0 \u001b[38;5;241m=\u001b[39m vdr\u001b[38;5;241m.\u001b[39mloader_plotter(\u001b[38;5;124m'\u001b[39m\u001b[38;5;124mrot1_5mm_2.5to6.18GHz_2025-06-03_15-47-10.txt\u001b[39m\u001b[38;5;124m'\u001b[39m, \n\u001b[1;32m      6\u001b[0m                                     \u001b[38;5;124m'\u001b[39m\u001b[38;5;124mrot2_2.4to5.6GHz_2025-06-02_17-28-27.txt\u001b[39m\u001b[38;5;124m'\u001b[39m, \n\u001b[1;32m      7\u001b[0m                                     \u001b[38;5;124m'\u001b[39m\u001b[38;5;124mdata/rotation_data_060225\u001b[39m\u001b[38;5;124m'\u001b[39m, title \u001b[38;5;241m=\u001b[39m \u001b[38;5;124m'\u001b[39m\u001b[38;5;124m5 mm\u001b[39m\u001b[38;5;124m'\u001b[39m)\n\u001b[1;32m     10\u001b[0m baseline, rot1_7p5 \u001b[38;5;241m=\u001b[39m vdr\u001b[38;5;241m.\u001b[39mloader_plotter(\u001b[38;5;124m'\u001b[39m\u001b[38;5;124mbaseline1_060325_2.5to6.18GHz_2025-06-03_15-52-59.txt\u001b[39m\u001b[38;5;124m'\u001b[39m, \n\u001b[1;32m     11\u001b[0m                                     \u001b[38;5;124m'\u001b[39m\u001b[38;5;124mrot1_7.5mm_2.5to6.18GHz_2025-06-03_15-49-54.txt\u001b[39m\u001b[38;5;124m'\u001b[39m, \n\u001b[1;32m     12\u001b[0m                                     \u001b[38;5;124m'\u001b[39m\u001b[38;5;124mdata/rotation_data_060225\u001b[39m\u001b[38;5;124m'\u001b[39m, title \u001b[38;5;241m=\u001b[39m \u001b[38;5;124m'\u001b[39m\u001b[38;5;124m7.5 mm\u001b[39m\u001b[38;5;124m'\u001b[39m)\n",
      "\u001b[0;31mTypeError\u001b[0m: loader_plotter() got an unexpected keyword argument 'title'"
     ]
    }
   ],
   "source": [
    "baseline, rot1_2p5 = vdr.loader_plotter('rot1_2.5mm_2.5to6.18GHz_2025-06-03_15-45-09.txt', \n",
    "                                    'rot1_2.4to5.6GHz_2025-06-02_17-23-08.txt', \n",
    "                                    'data/rotation_data_060225', title = '2.5 mm')\n",
    "\n",
    "baseline, rot1_5p0 = vdr.loader_plotter('rot1_5mm_2.5to6.18GHz_2025-06-03_15-47-10.txt', \n",
    "                                    'rot2_2.4to5.6GHz_2025-06-02_17-28-27.txt', \n",
    "                                    'data/rotation_data_060225', title = '5 mm')\n",
    "\n",
    "\n",
    "baseline, rot1_7p5 = vdr.loader_plotter('baseline1_060325_2.5to6.18GHz_2025-06-03_15-52-59.txt', \n",
    "                                    'rot1_7.5mm_2.5to6.18GHz_2025-06-03_15-49-54.txt', \n",
    "                                    'data/rotation_data_060225', title = '7.5 mm')\n",
    "\n",
    "\n",
    "baseline, rot1_10p0 = vdr.loader_plotter('baseline1_060325_2.5to6.18GHz_2025-06-03_15-52-59.txt', \n",
    "                                    'rot1_10mm_2.5to6.18GHz_2025-06-03_15-51-29.txt', \n",
    "                                    'data/rotation_data_060225', title = '10 mm')\n",
    "\n"
   ]
  },
  {
   "cell_type": "code",
   "execution_count": null,
   "metadata": {},
   "outputs": [],
   "source": []
  }
 ],
 "metadata": {
  "kernelspec": {
   "display_name": "base",
   "language": "python",
   "name": "python3"
  },
  "language_info": {
   "codemirror_mode": {
    "name": "ipython",
    "version": 3
   },
   "file_extension": ".py",
   "mimetype": "text/x-python",
   "name": "python",
   "nbconvert_exporter": "python",
   "pygments_lexer": "ipython3",
   "version": "3.11.5"
  }
 },
 "nbformat": 4,
 "nbformat_minor": 2
}

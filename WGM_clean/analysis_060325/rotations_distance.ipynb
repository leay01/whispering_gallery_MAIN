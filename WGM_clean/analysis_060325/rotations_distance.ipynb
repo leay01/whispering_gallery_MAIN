{
 "cells": [
  {
   "cell_type": "code",
   "execution_count": 10,
   "metadata": {},
   "outputs": [
    {
     "name": "stdout",
     "output_type": "stream",
     "text": [
      "/Users/leayamashiro/whispering_gallery_MAIN/WGM_clean\n"
     ]
    }
   ],
   "source": [
    "cd /Users/leayamashiro/whispering_gallery_MAIN/WGM_clean"
   ]
  },
  {
   "cell_type": "code",
   "execution_count": 11,
   "metadata": {},
   "outputs": [
    {
     "data": {
      "text/plain": [
       "['/Users/leayamashiro/whispering_gallery_MAIN/whispering_gallery/data/dist_rot_data_060325/rot1_5mm_2.5to6.18GHz_2025-06-03_15-47-10.txt',\n",
       " '/Users/leayamashiro/whispering_gallery_MAIN/whispering_gallery/data/dist_rot_data_060325/rot1_2.5mm_2.5to6.18GHz_2025-06-03_15-45-09.txt',\n",
       " '/Users/leayamashiro/whispering_gallery_MAIN/whispering_gallery/data/dist_rot_data_060325/rot1_1mm_2.5to6.18GHz_2025-06-03_16-23-55.txt',\n",
       " '/Users/leayamashiro/whispering_gallery_MAIN/whispering_gallery/data/dist_rot_data_060325/baseline1_060325_2.5to6.18GHz_2025-06-03_15-52-59.txt',\n",
       " '/Users/leayamashiro/whispering_gallery_MAIN/whispering_gallery/data/dist_rot_data_060325/rot1_10mm_2.5to6.18GHz_2025-06-03_15-51-29.txt',\n",
       " '/Users/leayamashiro/whispering_gallery_MAIN/whispering_gallery/data/dist_rot_data_060325/rot1_7.5mm_2.5to6.18GHz_2025-06-03_15-49-54.txt']"
      ]
     },
     "execution_count": 11,
     "metadata": {},
     "output_type": "execute_result"
    }
   ],
   "source": [
    "import numpy as np\n",
    "import pandas as pd \n",
    "import cmath \n",
    "import glob\n",
    "import scipy.special as sp\n",
    "import scipy.signal as spg\n",
    "import scipy.constants as const\n",
    "import matplotlib.pyplot as plt\n",
    "plt.style.use('dark_background')\n",
    "plt.rcParams['axes.labelsize'] = 18\n",
    "plt.rcParams['axes.titlesize'] = 24\n",
    "plt.rcParams['legend.fontsize'] = 8\n",
    "#import VNA_data_read_local as vdr\n",
    "\n",
    "\n",
    "import sys\n",
    "sys.path.append('/Users/leayamashiro/whispering_gallery_MAIN/wgm_code/Q_fac_analysis/')\n",
    "import useful_functions as uf\n",
    "#sys.path.append('/Users/leayamashiro/whispering_gallery_MAIN/WGM_clean/analysis_060225')\n",
    "import VNA_data_read_local as vdr\n",
    "# loading file folder\n",
    "rot_060325 = glob.glob('/Users/leayamashiro/whispering_gallery_MAIN/whispering_gallery/data/dist_rot_data_060325/*.txt')\n",
    "rot_060325"
   ]
  },
  {
   "cell_type": "code",
   "execution_count": null,
   "metadata": {},
   "outputs": [],
   "source": [
    "baseline, rot1_1p0 = vdr.loader_plotter('baseline1_060325_2.5to6.18GHz_2025-06-03_15-52-59.txt', \n",
    "                                    'rot1_1mm_2.5to6.18GHz_2025-06-03_16-23-55.txt', \n",
    "                                    'data/dist_rot_data_060325', title = '1 mm')\n",
    "\n",
    "\n",
    "baseline, rot1_2p5 = vdr.loader_plotter('baseline1_060325_2.5to6.18GHz_2025-06-03_15-52-59.txt', \n",
    "                                    'rot1_2.5mm_2.5to6.18GHz_2025-06-03_15-45-09.txt', \n",
    "                                    'data/dist_rot_data_060325', title = '2.5 mm')\n",
    "\n",
    "baseline, rot1_5p0 = vdr.loader_plotter('baseline1_060325_2.5to6.18GHz_2025-06-03_15-52-59.txt', \n",
    "                                    'rot1_5mm_2.5to6.18GHz_2025-06-03_15-47-10.txt', \n",
    "                                    'data/dist_rot_data_060325', title = '5 mm')\n",
    "\n",
    "\n",
    "baseline, rot1_7p5 = vdr.loader_plotter('baseline1_060325_2.5to6.18GHz_2025-06-03_15-52-59.txt', \n",
    "                                    'rot1_7.5mm_2.5to6.18GHz_2025-06-03_15-49-54.txt', \n",
    "                                    'data/dist_rot_data_060325', title = '7.5 mm')\n",
    "\n",
    "\n",
    "baseline, rot1_10p0 = vdr.loader_plotter('baseline1_060325_2.5to6.18GHz_2025-06-03_15-52-59.txt', \n",
    "                                    'rot1_10mm_2.5to6.18GHz_2025-06-03_15-51-29.txt', \n",
    "                                    'data/dist_rot_data_060325', title = '10 mm')\n",
    "    "
   ]
  },
  {
   "cell_type": "code",
   "execution_count": null,
   "metadata": {},
   "outputs": [],
   "source": [
    "rot1_distances = [rot1_1p0, rot1_2p5, rot1_5p0, rot1_7p5, rot1_10p0]\n",
    "for i in range(len(rot1_distances)): \n",
    "    S21_dips = uf.find_plot_dips(baseline, rot1_distances[i], n_dips = 6, f_start=3, \n",
    "                                 f_stop=4.2, title = 'Step ' + str(i + 1))"
   ]
  },
  {
   "cell_type": "code",
   "execution_count": null,
   "metadata": {},
   "outputs": [],
   "source": [
    "for i in range(len(rot1_distances)): \n",
    "    S21_dips = uf.find_plot_dips(baseline, rot1_distances[i], n_dips = 6, \n",
    "                                 title = 'Step ' + str(i + 1))"
   ]
  },
  {
   "cell_type": "markdown",
   "metadata": {},
   "source": [
    "For rotations 1, 5, and 7, I have data for the whole 2.5 to 9.86 GHz band. \n",
    "For rotations 1, 3, 5, and 7, I have data for the 2.5 to 6.18 GHz band, as well as the \"super close\" measurement from 2.5 to 9.86 GHz. "
   ]
  },
  {
   "cell_type": "code",
   "execution_count": null,
   "metadata": {},
   "outputs": [],
   "source": []
  }
 ],
 "metadata": {
  "kernelspec": {
   "display_name": "base",
   "language": "python",
   "name": "python3"
  },
  "language_info": {
   "codemirror_mode": {
    "name": "ipython",
    "version": 3
   },
   "file_extension": ".py",
   "mimetype": "text/x-python",
   "name": "python",
   "nbconvert_exporter": "python",
   "pygments_lexer": "ipython3",
   "version": "3.11.5"
  }
 },
 "nbformat": 4,
 "nbformat_minor": 2
}

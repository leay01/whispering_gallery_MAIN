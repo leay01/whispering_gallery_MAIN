{
 "cells": [
  {
   "cell_type": "code",
   "execution_count": 1,
   "metadata": {},
   "outputs": [],
   "source": [
    "import numpy as np\n",
    "import pandas as pd \n",
    "import cmath \n",
    "import scipy.special as sp\n",
    "import scipy.constants as const\n",
    "import matplotlib.pyplot as plt"
   ]
  },
  {
   "cell_type": "code",
   "execution_count": 2,
   "metadata": {},
   "outputs": [],
   "source": [
    "# for TM \n",
    "def bessel_roots(m, n): \n",
    "    roots = sp.jn_zeros(m, n)\n",
    "    return roots \n",
    "\n",
    "# for TE\n",
    "def bessel_deriv_roots(m, n):\n",
    "    roots = sp.jnp_zeros(m, n)\n",
    "    return roots"
   ]
  },
  {
   "cell_type": "code",
   "execution_count": 3,
   "metadata": {},
   "outputs": [
    {
     "name": "stdout",
     "output_type": "stream",
     "text": [
      "[ 2.40482556  5.52007811  8.65372791 11.79153444 14.93091771]\n"
     ]
    }
   ],
   "source": [
    "testing_J01 = bessel_roots(0,5)\n",
    "print(testing_J01)"
   ]
  },
  {
   "cell_type": "code",
   "execution_count": 4,
   "metadata": {},
   "outputs": [
    {
     "data": {
      "text/plain": [
       "array([ 3.83170597,  7.01558667, 10.17346814, 13.32369194, 16.47063005])"
      ]
     },
     "execution_count": 4,
     "metadata": {},
     "output_type": "execute_result"
    }
   ],
   "source": [
    "# test the bessel derivative function\n",
    "\n",
    "testing_Jd0 = bessel_deriv_roots(0,5)\n",
    "testing_Jd0"
   ]
  },
  {
   "cell_type": "markdown",
   "metadata": {},
   "source": [
    "okay those are correct! (based on ones listed in Jackson) \n",
    "now going to calculate for TM mode of interest:"
   ]
  },
  {
   "cell_type": "code",
   "execution_count": 5,
   "metadata": {},
   "outputs": [
    {
     "data": {
      "text/plain": [
       "13.35430047743533"
      ]
     },
     "execution_count": 5,
     "metadata": {},
     "output_type": "execute_result"
    }
   ],
   "source": [
    "# all of the TM modes we're interested in are at n = 1, p = 0\n",
    "m = 9\n",
    "n = 1\n",
    "\n",
    "J91 = bessel_roots(9,5)[0]\n",
    "J91"
   ]
  },
  {
   "cell_type": "code",
   "execution_count": 6,
   "metadata": {},
   "outputs": [
    {
     "data": {
      "text/plain": [
       "14.475500686554541"
      ]
     },
     "execution_count": 6,
     "metadata": {},
     "output_type": "execute_result"
    }
   ],
   "source": [
    "J10_1 = bessel_roots(10,1)[0]\n",
    "J10_1"
   ]
  },
  {
   "cell_type": "code",
   "execution_count": 7,
   "metadata": {},
   "outputs": [
    {
     "data": {
      "text/plain": [
       "12.225092264004655"
      ]
     },
     "execution_count": 7,
     "metadata": {},
     "output_type": "execute_result"
    }
   ],
   "source": [
    "J81 = bessel_roots(8,5)[0]\n",
    "J81"
   ]
  },
  {
   "cell_type": "markdown",
   "metadata": {},
   "source": [
    "#### First: Verify single TM mode. \n",
    "\n",
    "Equation: \n",
    "\n",
    "$$ \n",
    "\\omega_{m,n,p} = \\frac{c}{\\sqrt{\\mu\\epsilon}} \\sqrt{\\frac{x_{m,n}^2}{R^2} + \\frac{p^2 \\pi^2}{d^2}}\n",
    "$$"
   ]
  },
  {
   "cell_type": "markdown",
   "metadata": {},
   "source": [
    "note: this is not the most recent equation (1 in numerator of prefactor instead of c), but since I used correct formulation for mu and epsilon (presumably) then my calculations still worked out okay. (if i used the 1 instead of c, i think i would need to use relative permittivity...)\n",
    "oh. this was the whole problem i was having when i was calculating permittivity before entering it (refer to ipad.)\n",
    "\n",
    "makes sense. "
   ]
  },
  {
   "cell_type": "code",
   "execution_count": 8,
   "metadata": {},
   "outputs": [
    {
     "data": {
      "text/plain": [
       "18380770364.75798"
      ]
     },
     "execution_count": 8,
     "metadata": {},
     "output_type": "execute_result"
    }
   ],
   "source": [
    "c = const.c\n",
    "mu = 1 \n",
    "epsilon = 9.6 # just the delectric constant here (equation description Jackson p241)\n",
    "x_mn = J10_1\n",
    "p = 0 # because TM \n",
    "d = 0.0254 # [meters], 1 inch thick\n",
    "R = 0.0762 # [meters], 3 inch radius\n",
    "\n",
    "omega_mnp = (c/np.sqrt(mu*epsilon))*(np.sqrt((x_mn**2/R**2) + (p**2*np.pi**2)/d**2))\n",
    "omega_mnp"
   ]
  },
  {
   "cell_type": "code",
   "execution_count": 10,
   "metadata": {},
   "outputs": [],
   "source": [
    "def omega_mnp(x_mn, mu = 1, epsilon = 9.6, p = 0, d = 0.0254, R = 0.0762):\n",
    "    omega = (c/np.sqrt(mu*epsilon)) * (np.sqrt(((x_mn**2)/(R**2)) + (p**2*np.pi**2)/d**2))\n",
    "    return omega\n",
    "\n",
    "def omega_mnp_freq_GHz_solver(omega):\n",
    "    freq = omega/(2*np.pi)\n",
    "    freq_GHz = freq/(10**9)\n",
    "    return freq_GHz"
   ]
  },
  {
   "cell_type": "code",
   "execution_count": 11,
   "metadata": {},
   "outputs": [],
   "source": [
    "def freq_solver_omega_GHz(x_mn, mu = 1, epsilon = 9.6, p = 0, d = 0.0254, R = 0.0762):\n",
    "    omega = (c/np.sqrt(mu*epsilon)) * (np.sqrt(((x_mn**2)/(R**2)) + (p**2*np.pi**2)/d**2))\n",
    "    freq = omega/(2*np.pi) # Hz\n",
    "    freq_GHz = freq/(10**9) # GHz\n",
    "    return freq_GHz"
   ]
  },
  {
   "cell_type": "code",
   "execution_count": null,
   "metadata": {},
   "outputs": [],
   "source": []
  },
  {
   "cell_type": "code",
   "execution_count": 12,
   "metadata": {},
   "outputs": [
    {
     "data": {
      "text/plain": [
       "array([11.77087667, 16.44785275, 20.22303141, 23.76071586, 27.18202153])"
      ]
     },
     "execution_count": 12,
     "metadata": {},
     "output_type": "execute_result"
    }
   ],
   "source": [
    "X_mn = bessel_deriv_roots(10, 5)\n",
    "X_mn"
   ]
  },
  {
   "cell_type": "markdown",
   "metadata": {},
   "source": [
    "Trying for TE mode, 3.2028 GHz: \n",
    "- \\# of lobes = 20, m = 10"
   ]
  },
  {
   "cell_type": "code",
   "execution_count": 13,
   "metadata": {},
   "outputs": [
    {
     "data": {
      "text/plain": [
       "3.0473781978750827"
      ]
     },
     "execution_count": 13,
     "metadata": {},
     "output_type": "execute_result"
    }
   ],
   "source": [
    "X_mn = bessel_deriv_roots(10, 1)[0]\n",
    "\n",
    "test_TE_3p2028GHz = freq_solver_omega_GHz(X_mn, mu=1, epsilon=9.6, p = 1, d=0.0254, R=0.0762)\n",
    "test_TE_3p2028GHz"
   ]
  },
  {
   "cell_type": "markdown",
   "metadata": {},
   "source": [
    "OKAY interesting – that is not the frequency I am looking for, but it is very close to the next related TM mode, which occurs at 3.0775 + 3.3228e-5i. In that, though, I am using the roots of the derivative of the Bessel function $J_m'(x) = 0$, specifically for TE modes. Which makes it weird that this equation would predict a TE mode here that is super close to where COMSOL finds the TM mode. "
   ]
  },
  {
   "cell_type": "markdown",
   "metadata": {},
   "source": [
    "Trying for TE mode, 3.4197 GHz: \n",
    "- \\# of lobes = 22, 22/2 = 11, 11 + 1 = 12 (m = 12)"
   ]
  },
  {
   "cell_type": "code",
   "execution_count": 13,
   "metadata": {},
   "outputs": [
    {
     "data": {
      "text/plain": [
       "3.390391801439172"
      ]
     },
     "execution_count": 13,
     "metadata": {},
     "output_type": "execute_result"
    }
   ],
   "source": [
    "X_mn_2 = bessel_deriv_roots(12, 1)[0]\n",
    "\n",
    "test_TE_3p4197GHz = freq_solver_omega_GHz(X_mn_2, mu=1, epsilon=9.6, p = 1, d=0.0254, R=0.0762)\n",
    "test_TE_3p4197GHz"
   ]
  },
  {
   "cell_type": "markdown",
   "metadata": {},
   "source": [
    "Okay, interesting again. This is spitting out a frequency arguably closest to the TE mode I was trying to find above. It's missing it by 1. Does this have to do with the lobe counting? I'm dividing by 2 but should I be subtracting by 1 before I do that? I kept seeing online p = l-m. Does that have something to do with it? "
   ]
  },
  {
   "cell_type": "markdown",
   "metadata": {},
   "source": [
    "NEVER MIND!!!!\n",
    "Okay. m as an integer starts at 0, right? So I need to be subtracting 1 or adding 1? Yeah. Because if m = 0 has just a ring, then m = 1 has two rings, m = 2 is three rings. "
   ]
  },
  {
   "cell_type": "markdown",
   "metadata": {},
   "source": [
    "Upon reading online, it seems this is true. I needed to be adding 1 to the number I get after dividing \\# of lobes by 2!!! "
   ]
  },
  {
   "cell_type": "code",
   "execution_count": 14,
   "metadata": {},
   "outputs": [],
   "source": [
    "# function to do whole thing\n",
    "\n",
    "def bessel_omega_freq_solver(mode, num_lobes, p_TE=1): \n",
    "    \n",
    "    # define constants\n",
    "    m = num_lobes + 1\n",
    "    mu = 1 \n",
    "    epsilon = 9.6\n",
    "    d = 0.0254 \n",
    "    R = 0.0762\n",
    "    n=1 \n",
    "\n",
    "    if mode == 'TM': # solve bessel and define p for transverse magnetic (TM)\n",
    "        x_mn = bessel_roots(m,n)[0]\n",
    "        p = 0\n",
    "    if mode == 'TE': # solve bessel and define p for transverse electric (TE) \n",
    "        x_mn = bessel_deriv_roots(m,n)[0]\n",
    "        p = p_TE\n",
    "\n",
    "    # calculate omega_mnp\n",
    "    omega_mnp = (c/np.sqrt(mu*epsilon)) * (np.sqrt(((x_mn**2)/(R**2)) + (p**2*np.pi**2)/d**2))\n",
    "    freq = omega_mnp/(2*np.pi) # Hz\n",
    "    freq_GHz = freq/(10**9) # GHz\n",
    "\n",
    "    return freq_GHz\n"
   ]
  },
  {
   "cell_type": "code",
   "execution_count": 15,
   "metadata": {},
   "outputs": [
    {
     "data": {
      "text/plain": [
       "3.390391801439172"
      ]
     },
     "execution_count": 15,
     "metadata": {},
     "output_type": "execute_result"
    }
   ],
   "source": [
    "testing = bessel_omega_freq_solver(mode='TE', num_lobes=11)\n",
    "testing"
   ]
  },
  {
   "cell_type": "markdown",
   "metadata": {},
   "source": [
    "Next: \n",
    "- try to get it to predict all WGMs\n",
    "- download spreadsheets into (new?) notebook and start looking at TM/TE spacing."
   ]
  },
  {
   "cell_type": "markdown",
   "metadata": {},
   "source": []
  },
  {
   "cell_type": "markdown",
   "metadata": {},
   "source": [
    "m_arr = np.arange()"
   ]
  },
  {
   "cell_type": "code",
   "execution_count": 16,
   "metadata": {},
   "outputs": [],
   "source": [
    "\n",
    "ms = []\n",
    "freqs = []\n",
    "for i in range(0,25):\n",
    "    freq = bessel_omega_freq_solver('TE', i-1)\n",
    "    ms.append(i)\n",
    "    freqs.append(freq)\n",
    "TE_eigenfreqs = {'m':ms,'eigenfreq': freqs}\n",
    "\n",
    "ms = []\n",
    "freqs = []\n",
    "for i in range(0,25):\n",
    "    freq = bessel_omega_freq_solver('TM', i-1)\n",
    "    ms.append(i)\n",
    "    freqs.append(freq)\n",
    "TM_eigenfreqs = {'m':ms,'eigenfreq': freqs}\n",
    "\n",
    "# TE_eigenfreqs=[]\n",
    "# for i in range(0,25):\n",
    "#     freq = bessel_omega_freq_solver('TE', i)\n",
    "#     TE_eigenfreqs.append([i+1, freq])\n",
    "\n",
    "# TM_eigenfreqs=[]\n",
    "# for i in range(0,25):\n",
    "#     freq = bessel_omega_freq_solver('TM', i-1)\n",
    "#     TM_eigenfreqs.append([i, freq])"
   ]
  },
  {
   "cell_type": "code",
   "execution_count": 17,
   "metadata": {},
   "outputs": [],
   "source": [
    "ms_p = []\n",
    "freqs_p = []\n",
    "for i in range(0,25):\n",
    "    freq = bessel_omega_freq_solver('TE', i-1, p_TE=2)\n",
    "    ms_p.append(i)\n",
    "    freqs_p.append(freq)\n",
    "TE_eigenfreqs_p2 = {'m':ms_p,'eigenfreq': freqs_p}\n",
    "\n",
    "TE_eigenfreqs_p2_table = pd.DataFrame(TE_eigenfreqs_p2)"
   ]
  },
  {
   "cell_type": "code",
   "execution_count": 18,
   "metadata": {},
   "outputs": [
    {
     "data": {
      "text/html": [
       "<div>\n",
       "<style scoped>\n",
       "    .dataframe tbody tr th:only-of-type {\n",
       "        vertical-align: middle;\n",
       "    }\n",
       "\n",
       "    .dataframe tbody tr th {\n",
       "        vertical-align: top;\n",
       "    }\n",
       "\n",
       "    .dataframe thead th {\n",
       "        text-align: right;\n",
       "    }\n",
       "</style>\n",
       "<table border=\"1\" class=\"dataframe\">\n",
       "  <thead>\n",
       "    <tr style=\"text-align: right;\">\n",
       "      <th></th>\n",
       "      <th>m</th>\n",
       "      <th>eigenfreq</th>\n",
       "    </tr>\n",
       "  </thead>\n",
       "  <tbody>\n",
       "    <tr>\n",
       "      <th>0</th>\n",
       "      <td>0</td>\n",
       "      <td>3.887263</td>\n",
       "    </tr>\n",
       "    <tr>\n",
       "      <th>1</th>\n",
       "      <td>1</td>\n",
       "      <td>3.827484</td>\n",
       "    </tr>\n",
       "    <tr>\n",
       "      <th>2</th>\n",
       "      <td>2</td>\n",
       "      <td>3.859037</td>\n",
       "    </tr>\n",
       "    <tr>\n",
       "      <th>3</th>\n",
       "      <td>3</td>\n",
       "      <td>3.902823</td>\n",
       "    </tr>\n",
       "    <tr>\n",
       "      <th>4</th>\n",
       "      <td>4</td>\n",
       "      <td>3.958033</td>\n",
       "    </tr>\n",
       "    <tr>\n",
       "      <th>5</th>\n",
       "      <td>5</td>\n",
       "      <td>4.023955</td>\n",
       "    </tr>\n",
       "    <tr>\n",
       "      <th>6</th>\n",
       "      <td>6</td>\n",
       "      <td>4.099913</td>\n",
       "    </tr>\n",
       "    <tr>\n",
       "      <th>7</th>\n",
       "      <td>7</td>\n",
       "      <td>4.185243</td>\n",
       "    </tr>\n",
       "    <tr>\n",
       "      <th>8</th>\n",
       "      <td>8</td>\n",
       "      <td>4.279299</td>\n",
       "    </tr>\n",
       "    <tr>\n",
       "      <th>9</th>\n",
       "      <td>9</td>\n",
       "      <td>4.381451</td>\n",
       "    </tr>\n",
       "    <tr>\n",
       "      <th>10</th>\n",
       "      <td>10</td>\n",
       "      <td>4.491091</td>\n",
       "    </tr>\n",
       "    <tr>\n",
       "      <th>11</th>\n",
       "      <td>11</td>\n",
       "      <td>4.607641</td>\n",
       "    </tr>\n",
       "    <tr>\n",
       "      <th>12</th>\n",
       "      <td>12</td>\n",
       "      <td>4.730554</td>\n",
       "    </tr>\n",
       "    <tr>\n",
       "      <th>13</th>\n",
       "      <td>13</td>\n",
       "      <td>4.859315</td>\n",
       "    </tr>\n",
       "    <tr>\n",
       "      <th>14</th>\n",
       "      <td>14</td>\n",
       "      <td>4.993446</td>\n",
       "    </tr>\n",
       "    <tr>\n",
       "      <th>15</th>\n",
       "      <td>15</td>\n",
       "      <td>5.132502</td>\n",
       "    </tr>\n",
       "    <tr>\n",
       "      <th>16</th>\n",
       "      <td>16</td>\n",
       "      <td>5.276075</td>\n",
       "    </tr>\n",
       "    <tr>\n",
       "      <th>17</th>\n",
       "      <td>17</td>\n",
       "      <td>5.423789</td>\n",
       "    </tr>\n",
       "    <tr>\n",
       "      <th>18</th>\n",
       "      <td>18</td>\n",
       "      <td>5.575300</td>\n",
       "    </tr>\n",
       "    <tr>\n",
       "      <th>19</th>\n",
       "      <td>19</td>\n",
       "      <td>5.730292</td>\n",
       "    </tr>\n",
       "    <tr>\n",
       "      <th>20</th>\n",
       "      <td>20</td>\n",
       "      <td>5.888479</td>\n",
       "    </tr>\n",
       "    <tr>\n",
       "      <th>21</th>\n",
       "      <td>21</td>\n",
       "      <td>6.049600</td>\n",
       "    </tr>\n",
       "    <tr>\n",
       "      <th>22</th>\n",
       "      <td>22</td>\n",
       "      <td>6.213417</td>\n",
       "    </tr>\n",
       "    <tr>\n",
       "      <th>23</th>\n",
       "      <td>23</td>\n",
       "      <td>6.379713</td>\n",
       "    </tr>\n",
       "    <tr>\n",
       "      <th>24</th>\n",
       "      <td>24</td>\n",
       "      <td>6.548293</td>\n",
       "    </tr>\n",
       "  </tbody>\n",
       "</table>\n",
       "</div>"
      ],
      "text/plain": [
       "     m  eigenfreq\n",
       "0    0   3.887263\n",
       "1    1   3.827484\n",
       "2    2   3.859037\n",
       "3    3   3.902823\n",
       "4    4   3.958033\n",
       "5    5   4.023955\n",
       "6    6   4.099913\n",
       "7    7   4.185243\n",
       "8    8   4.279299\n",
       "9    9   4.381451\n",
       "10  10   4.491091\n",
       "11  11   4.607641\n",
       "12  12   4.730554\n",
       "13  13   4.859315\n",
       "14  14   4.993446\n",
       "15  15   5.132502\n",
       "16  16   5.276075\n",
       "17  17   5.423789\n",
       "18  18   5.575300\n",
       "19  19   5.730292\n",
       "20  20   5.888479\n",
       "21  21   6.049600\n",
       "22  22   6.213417\n",
       "23  23   6.379713\n",
       "24  24   6.548293"
      ]
     },
     "execution_count": 18,
     "metadata": {},
     "output_type": "execute_result"
    }
   ],
   "source": [
    "TE_eigenfreqs_p2_table"
   ]
  },
  {
   "cell_type": "code",
   "execution_count": 19,
   "metadata": {},
   "outputs": [
    {
     "data": {
      "text/plain": [
       "{'m': [0,\n",
       "  1,\n",
       "  2,\n",
       "  3,\n",
       "  4,\n",
       "  5,\n",
       "  6,\n",
       "  7,\n",
       "  8,\n",
       "  9,\n",
       "  10,\n",
       "  11,\n",
       "  12,\n",
       "  13,\n",
       "  14,\n",
       "  15,\n",
       "  16,\n",
       "  17,\n",
       "  18,\n",
       "  19,\n",
       "  20,\n",
       "  21,\n",
       "  22,\n",
       "  23,\n",
       "  24],\n",
       " 'eigenfreq': [2.0560708028431076,\n",
       "  1.9406817526072309,\n",
       "  2.00219339426076,\n",
       "  2.0853405276094903,\n",
       "  2.186925087048155,\n",
       "  2.3040902909382135,\n",
       "  2.434316925659605,\n",
       "  2.5754368491283577,\n",
       "  2.725621976688559,\n",
       "  2.8833529606570996,\n",
       "  3.0473781978750827,\n",
       "  3.2166713210237456,\n",
       "  3.390391801439172,\n",
       "  3.5678506641862033,\n",
       "  3.748481750614231,\n",
       "  3.9318181717389664,\n",
       "  4.117473273276432,\n",
       "  4.305125362574945,\n",
       "  4.494505496442386,\n",
       "  4.685387723753874,\n",
       "  4.877581280754643,\n",
       "  5.070924333416409,\n",
       "  5.265278943930094,\n",
       "  5.460527006436703,\n",
       "  5.65656695166352]}"
      ]
     },
     "execution_count": 19,
     "metadata": {},
     "output_type": "execute_result"
    }
   ],
   "source": [
    "TE_eigenfreqs"
   ]
  },
  {
   "cell_type": "code",
   "execution_count": 20,
   "metadata": {},
   "outputs": [
    {
     "data": {
      "text/plain": [
       "{'m': [0,\n",
       "  1,\n",
       "  2,\n",
       "  3,\n",
       "  4,\n",
       "  5,\n",
       "  6,\n",
       "  7,\n",
       "  8,\n",
       "  9,\n",
       "  10,\n",
       "  11,\n",
       "  12,\n",
       "  13,\n",
       "  14,\n",
       "  15,\n",
       "  16,\n",
       "  17,\n",
       "  18,\n",
       "  19,\n",
       "  20,\n",
       "  21,\n",
       "  22,\n",
       "  23,\n",
       "  24],\n",
       " 'eigenfreq': [0.48599726531879867,\n",
       "  0.7743591284894963,\n",
       "  1.0378708702664887,\n",
       "  1.2893830173200957,\n",
       "  1.5335472710981521,\n",
       "  1.7726512984289928,\n",
       "  2.0080134466405055,\n",
       "  2.2404724926609587,\n",
       "  2.4705997445690344,\n",
       "  2.6988042818780404,\n",
       "  2.9253904613882526,\n",
       "  3.1505916985684,\n",
       "  3.374591465684473,\n",
       "  3.597536950470012,\n",
       "  3.8195482788259176,\n",
       "  4.04072494015239,\n",
       "  4.261150384485854,\n",
       "  4.480895387842756,\n",
       "  4.700020565452168,\n",
       "  4.918578281809219,\n",
       "  5.136614125017034,\n",
       "  5.35416806067336,\n",
       "  5.571275346247156,\n",
       "  5.7879672638345,\n",
       "  6.004271713376716]}"
      ]
     },
     "execution_count": 20,
     "metadata": {},
     "output_type": "execute_result"
    }
   ],
   "source": [
    "TM_eigenfreqs"
   ]
  },
  {
   "cell_type": "code",
   "execution_count": 21,
   "metadata": {},
   "outputs": [
    {
     "data": {
      "text/plain": [
       "<matplotlib.legend.Legend at 0x328887e10>"
      ]
     },
     "execution_count": 21,
     "metadata": {},
     "output_type": "execute_result"
    },
    {
     "data": {
      "image/png": "[encoded data removed]",
      "text/plain": [
       "<Figure size 1000x800 with 1 Axes>"
      ]
     },
     "metadata": {},
     "output_type": "display_data"
    }
   ],
   "source": [
    "plt.figure(figsize = (10,8))\n",
    "\n",
    "plt.scatter(TE_eigenfreqs['m'], TE_eigenfreqs['eigenfreq'], label='TE')\n",
    "plt.scatter(TM_eigenfreqs['m'], TM_eigenfreqs['eigenfreq'], label = 'TM')\n",
    "plt.xlabel('m')\n",
    "plt.ylabel('Eigenfrequency $f$')\n",
    "plt.grid(True)\n",
    "plt.legend()"
   ]
  },
  {
   "cell_type": "code",
   "execution_count": 22,
   "metadata": {},
   "outputs": [],
   "source": [
    "# spacing predicted by formula\n",
    "TE_freq_arr = np.array(TE_eigenfreqs['eigenfreq'])\n",
    "TM_freq_arr = np.array(TM_eigenfreqs['eigenfreq'])\n",
    "\n",
    "spacing = TE_freq_arr - TM_freq_arr"
   ]
  },
  {
   "cell_type": "code",
   "execution_count": 23,
   "metadata": {},
   "outputs": [
    {
     "data": {
      "text/plain": [
       "array([ 1.57007354,  1.16632262,  0.96432252,  0.79595751,  0.65337782,\n",
       "        0.53143899,  0.42630348,  0.33496436,  0.25502223,  0.18454868,\n",
       "        0.12198774,  0.06607962,  0.01580034, -0.02968629, -0.07106653,\n",
       "       -0.10890677, -0.14367711, -0.17577003, -0.20551507, -0.23319056,\n",
       "       -0.25903284, -0.28324373, -0.3059964 , -0.32744026, -0.34770476])"
      ]
     },
     "execution_count": 23,
     "metadata": {},
     "output_type": "execute_result"
    }
   ],
   "source": [
    "spacing"
   ]
  },
  {
   "cell_type": "code",
   "execution_count": 24,
   "metadata": {},
   "outputs": [
    {
     "data": {
      "text/plain": [
       "[<matplotlib.lines.Line2D at 0x328805150>]"
      ]
     },
     "execution_count": 24,
     "metadata": {},
     "output_type": "execute_result"
    },
    {
     "data": {
      "image/png": "[encoded data removed]",
      "text/plain": [
       "<Figure size 640x480 with 1 Axes>"
      ]
     },
     "metadata": {},
     "output_type": "display_data"
    }
   ],
   "source": [
    "plt.plot(np.abs(spacing))"
   ]
  },
  {
   "cell_type": "code",
   "execution_count": 24,
   "metadata": {},
   "outputs": [
    {
     "name": "stdout",
     "output_type": "stream",
     "text": [
      "\u001b[0;31mInit signature:\u001b[0m\n",
      "\u001b[0mpd\u001b[0m\u001b[0;34m.\u001b[0m\u001b[0mDataFrame\u001b[0m\u001b[0;34m(\u001b[0m\u001b[0;34m\u001b[0m\n",
      "\u001b[0;34m\u001b[0m    \u001b[0mdata\u001b[0m\u001b[0;34m=\u001b[0m\u001b[0;32mNone\u001b[0m\u001b[0;34m,\u001b[0m\u001b[0;34m\u001b[0m\n",
      "\u001b[0;34m\u001b[0m    \u001b[0mindex\u001b[0m\u001b[0;34m:\u001b[0m \u001b[0;34m'Axes | None'\u001b[0m \u001b[0;34m=\u001b[0m \u001b[0;32mNone\u001b[0m\u001b[0;34m,\u001b[0m\u001b[0;34m\u001b[0m\n",
      "\u001b[0;34m\u001b[0m    \u001b[0mcolumns\u001b[0m\u001b[0;34m:\u001b[0m \u001b[0;34m'Axes | None'\u001b[0m \u001b[0;34m=\u001b[0m \u001b[0;32mNone\u001b[0m\u001b[0;34m,\u001b[0m\u001b[0;34m\u001b[0m\n",
      "\u001b[0;34m\u001b[0m    \u001b[0mdtype\u001b[0m\u001b[0;34m:\u001b[0m \u001b[0;34m'Dtype | None'\u001b[0m \u001b[0;34m=\u001b[0m \u001b[0;32mNone\u001b[0m\u001b[0;34m,\u001b[0m\u001b[0;34m\u001b[0m\n",
      "\u001b[0;34m\u001b[0m    \u001b[0mcopy\u001b[0m\u001b[0;34m:\u001b[0m \u001b[0;34m'bool | None'\u001b[0m \u001b[0;34m=\u001b[0m \u001b[0;32mNone\u001b[0m\u001b[0;34m,\u001b[0m\u001b[0;34m\u001b[0m\n",
      "\u001b[0;34m\u001b[0m\u001b[0;34m)\u001b[0m \u001b[0;34m->\u001b[0m \u001b[0;34m'None'\u001b[0m\u001b[0;34m\u001b[0m\u001b[0;34m\u001b[0m\u001b[0m\n",
      "\u001b[0;31mDocstring:\u001b[0m     \n",
      "Two-dimensional, size-mutable, potentially heterogeneous tabular data.\n",
      "\n",
      "Data structure also contains labeled axes (rows and columns).\n",
      "Arithmetic operations align on both row and column labels. Can be\n",
      "thought of as a dict-like container for Series objects. The primary\n",
      "pandas data structure.\n",
      "\n",
      "Parameters\n",
      "----------\n",
      "data : ndarray (structured or homogeneous), Iterable, dict, or DataFrame\n",
      "    Dict can contain Series, arrays, constants, dataclass or list-like objects. If\n",
      "    data is a dict, column order follows insertion-order. If a dict contains Series\n",
      "    which have an index defined, it is aligned by its index. This alignment also\n",
      "    occurs if data is a Series or a DataFrame itself. Alignment is done on\n",
      "    Series/DataFrame inputs.\n",
      "\n",
      "    If data is a list of dicts, column order follows insertion-order.\n",
      "\n",
      "index : Index or array-like\n",
      "    Index to use for resulting frame. Will default to RangeIndex if\n",
      "    no indexing information part of input data and no index provided.\n",
      "columns : Index or array-like\n",
      "    Column labels to use for resulting frame when data does not have them,\n",
      "    defaulting to RangeIndex(0, 1, 2, ..., n). If data contains column labels,\n",
      "    will perform column selection instead.\n",
      "dtype : dtype, default None\n",
      "    Data type to force. Only a single dtype is allowed. If None, infer.\n",
      "copy : bool or None, default None\n",
      "    Copy data from inputs.\n",
      "    For dict data, the default of None behaves like ``copy=True``.  For DataFrame\n",
      "    or 2d ndarray input, the default of None behaves like ``copy=False``.\n",
      "    If data is a dict containing one or more Series (possibly of different dtypes),\n",
      "    ``copy=False`` will ensure that these inputs are not copied.\n",
      "\n",
      "    .. versionchanged:: 1.3.0\n",
      "\n",
      "See Also\n",
      "--------\n",
      "DataFrame.from_records : Constructor from tuples, also record arrays.\n",
      "DataFrame.from_dict : From dicts of Series, arrays, or dicts.\n",
      "read_csv : Read a comma-separated values (csv) file into DataFrame.\n",
      "read_table : Read general delimited file into DataFrame.\n",
      "read_clipboard : Read text from clipboard into DataFrame.\n",
      "\n",
      "Notes\n",
      "-----\n",
      "Please reference the :ref:`User Guide <basics.dataframe>` for more information.\n",
      "\n",
      "Examples\n",
      "--------\n",
      "Constructing DataFrame from a dictionary.\n",
      "\n",
      ">>> d = {'col1': [1, 2], 'col2': [3, 4]}\n",
      ">>> df = pd.DataFrame(data=d)\n",
      ">>> df\n",
      "   col1  col2\n",
      "0     1     3\n",
      "1     2     4\n",
      "\n",
      "Notice that the inferred dtype is int64.\n",
      "\n",
      ">>> df.dtypes\n",
      "col1    int64\n",
      "col2    int64\n",
      "dtype: object\n",
      "\n",
      "To enforce a single dtype:\n",
      "\n",
      ">>> df = pd.DataFrame(data=d, dtype=np.int8)\n",
      ">>> df.dtypes\n",
      "col1    int8\n",
      "col2    int8\n",
      "dtype: object\n",
      "\n",
      "Constructing DataFrame from a dictionary including Series:\n",
      "\n",
      ">>> d = {'col1': [0, 1, 2, 3], 'col2': pd.Series([2, 3], index=[2, 3])}\n",
      ">>> pd.DataFrame(data=d, index=[0, 1, 2, 3])\n",
      "   col1  col2\n",
      "0     0   NaN\n",
      "1     1   NaN\n",
      "2     2   2.0\n",
      "3     3   3.0\n",
      "\n",
      "Constructing DataFrame from numpy ndarray:\n",
      "\n",
      ">>> df2 = pd.DataFrame(np.array([[1, 2, 3], [4, 5, 6], [7, 8, 9]]),\n",
      "...                    columns=['a', 'b', 'c'])\n",
      ">>> df2\n",
      "   a  b  c\n",
      "0  1  2  3\n",
      "1  4  5  6\n",
      "2  7  8  9\n",
      "\n",
      "Constructing DataFrame from a numpy ndarray that has labeled columns:\n",
      "\n",
      ">>> data = np.array([(1, 2, 3), (4, 5, 6), (7, 8, 9)],\n",
      "...                 dtype=[(\"a\", \"i4\"), (\"b\", \"i4\"), (\"c\", \"i4\")])\n",
      ">>> df3 = pd.DataFrame(data, columns=['c', 'a'])\n",
      "...\n",
      ">>> df3\n",
      "   c  a\n",
      "0  3  1\n",
      "1  6  4\n",
      "2  9  7\n",
      "\n",
      "Constructing DataFrame from dataclass:\n",
      "\n",
      ">>> from dataclasses import make_dataclass\n",
      ">>> Point = make_dataclass(\"Point\", [(\"x\", int), (\"y\", int)])\n",
      ">>> pd.DataFrame([Point(0, 0), Point(0, 3), Point(2, 3)])\n",
      "   x  y\n",
      "0  0  0\n",
      "1  0  3\n",
      "2  2  3\n",
      "\n",
      "Constructing DataFrame from Series/DataFrame:\n",
      "\n",
      ">>> ser = pd.Series([1, 2, 3], index=[\"a\", \"b\", \"c\"])\n",
      ">>> df = pd.DataFrame(data=ser, index=[\"a\", \"c\"])\n",
      ">>> df\n",
      "   0\n",
      "a  1\n",
      "c  3\n",
      "\n",
      ">>> df1 = pd.DataFrame([1, 2, 3], index=[\"a\", \"b\", \"c\"], columns=[\"x\"])\n",
      ">>> df2 = pd.DataFrame(data=df1, index=[\"a\", \"c\"])\n",
      ">>> df2\n",
      "   x\n",
      "a  1\n",
      "c  3\n",
      "\u001b[0;31mFile:\u001b[0m           ~/anaconda3/lib/python3.11/site-packages/pandas/core/frame.py\n",
      "\u001b[0;31mType:\u001b[0m           type\n",
      "\u001b[0;31mSubclasses:\u001b[0m     SubclassedDataFrame"
     ]
    }
   ],
   "source": [
    "pd.DataFrame?"
   ]
  },
  {
   "cell_type": "code",
   "execution_count": 60,
   "metadata": {},
   "outputs": [],
   "source": [
    "wgm_data = {'m': TM_eigenfreqs['m'], 'TE': TE_eigenfreqs['eigenfreq'], 'TM': TM_eigenfreqs['eigenfreq']}"
   ]
  },
  {
   "cell_type": "code",
   "execution_count": 61,
   "metadata": {},
   "outputs": [],
   "source": [
    "WGM_m_table = pd.DataFrame(wgm_data)"
   ]
  },
  {
   "cell_type": "code",
   "execution_count": 62,
   "metadata": {},
   "outputs": [
    {
     "data": {
      "text/html": [
       "<div>\n",
       "<style scoped>\n",
       "    .dataframe tbody tr th:only-of-type {\n",
       "        vertical-align: middle;\n",
       "    }\n",
       "\n",
       "    .dataframe tbody tr th {\n",
       "        vertical-align: top;\n",
       "    }\n",
       "\n",
       "    .dataframe thead th {\n",
       "        text-align: right;\n",
       "    }\n",
       "</style>\n",
       "<table border=\"1\" class=\"dataframe\">\n",
       "  <thead>\n",
       "    <tr style=\"text-align: right;\">\n",
       "      <th></th>\n",
       "      <th>m</th>\n",
       "      <th>TE</th>\n",
       "      <th>TM</th>\n",
       "    </tr>\n",
       "  </thead>\n",
       "  <tbody>\n",
       "    <tr>\n",
       "      <th>0</th>\n",
       "      <td>0</td>\n",
       "      <td>2.056071</td>\n",
       "      <td>0.485997</td>\n",
       "    </tr>\n",
       "    <tr>\n",
       "      <th>1</th>\n",
       "      <td>1</td>\n",
       "      <td>1.940682</td>\n",
       "      <td>0.774359</td>\n",
       "    </tr>\n",
       "    <tr>\n",
       "      <th>2</th>\n",
       "      <td>2</td>\n",
       "      <td>2.002193</td>\n",
       "      <td>1.037871</td>\n",
       "    </tr>\n",
       "    <tr>\n",
       "      <th>3</th>\n",
       "      <td>3</td>\n",
       "      <td>2.085341</td>\n",
       "      <td>1.289383</td>\n",
       "    </tr>\n",
       "    <tr>\n",
       "      <th>4</th>\n",
       "      <td>4</td>\n",
       "      <td>2.186925</td>\n",
       "      <td>1.533547</td>\n",
       "    </tr>\n",
       "    <tr>\n",
       "      <th>5</th>\n",
       "      <td>5</td>\n",
       "      <td>2.304090</td>\n",
       "      <td>1.772651</td>\n",
       "    </tr>\n",
       "    <tr>\n",
       "      <th>6</th>\n",
       "      <td>6</td>\n",
       "      <td>2.434317</td>\n",
       "      <td>2.008013</td>\n",
       "    </tr>\n",
       "    <tr>\n",
       "      <th>7</th>\n",
       "      <td>7</td>\n",
       "      <td>2.575437</td>\n",
       "      <td>2.240472</td>\n",
       "    </tr>\n",
       "    <tr>\n",
       "      <th>8</th>\n",
       "      <td>8</td>\n",
       "      <td>2.725622</td>\n",
       "      <td>2.470600</td>\n",
       "    </tr>\n",
       "    <tr>\n",
       "      <th>9</th>\n",
       "      <td>9</td>\n",
       "      <td>2.883353</td>\n",
       "      <td>2.698804</td>\n",
       "    </tr>\n",
       "    <tr>\n",
       "      <th>10</th>\n",
       "      <td>10</td>\n",
       "      <td>3.047378</td>\n",
       "      <td>2.925390</td>\n",
       "    </tr>\n",
       "    <tr>\n",
       "      <th>11</th>\n",
       "      <td>11</td>\n",
       "      <td>3.216671</td>\n",
       "      <td>3.150592</td>\n",
       "    </tr>\n",
       "    <tr>\n",
       "      <th>12</th>\n",
       "      <td>12</td>\n",
       "      <td>3.390392</td>\n",
       "      <td>3.374591</td>\n",
       "    </tr>\n",
       "    <tr>\n",
       "      <th>13</th>\n",
       "      <td>13</td>\n",
       "      <td>3.567851</td>\n",
       "      <td>3.597537</td>\n",
       "    </tr>\n",
       "    <tr>\n",
       "      <th>14</th>\n",
       "      <td>14</td>\n",
       "      <td>3.748482</td>\n",
       "      <td>3.819548</td>\n",
       "    </tr>\n",
       "    <tr>\n",
       "      <th>15</th>\n",
       "      <td>15</td>\n",
       "      <td>3.931818</td>\n",
       "      <td>4.040725</td>\n",
       "    </tr>\n",
       "    <tr>\n",
       "      <th>16</th>\n",
       "      <td>16</td>\n",
       "      <td>4.117473</td>\n",
       "      <td>4.261150</td>\n",
       "    </tr>\n",
       "    <tr>\n",
       "      <th>17</th>\n",
       "      <td>17</td>\n",
       "      <td>4.305125</td>\n",
       "      <td>4.480895</td>\n",
       "    </tr>\n",
       "    <tr>\n",
       "      <th>18</th>\n",
       "      <td>18</td>\n",
       "      <td>4.494505</td>\n",
       "      <td>4.700021</td>\n",
       "    </tr>\n",
       "    <tr>\n",
       "      <th>19</th>\n",
       "      <td>19</td>\n",
       "      <td>4.685388</td>\n",
       "      <td>4.918578</td>\n",
       "    </tr>\n",
       "    <tr>\n",
       "      <th>20</th>\n",
       "      <td>20</td>\n",
       "      <td>4.877581</td>\n",
       "      <td>5.136614</td>\n",
       "    </tr>\n",
       "    <tr>\n",
       "      <th>21</th>\n",
       "      <td>21</td>\n",
       "      <td>5.070924</td>\n",
       "      <td>5.354168</td>\n",
       "    </tr>\n",
       "    <tr>\n",
       "      <th>22</th>\n",
       "      <td>22</td>\n",
       "      <td>5.265279</td>\n",
       "      <td>5.571275</td>\n",
       "    </tr>\n",
       "    <tr>\n",
       "      <th>23</th>\n",
       "      <td>23</td>\n",
       "      <td>5.460527</td>\n",
       "      <td>5.787967</td>\n",
       "    </tr>\n",
       "    <tr>\n",
       "      <th>24</th>\n",
       "      <td>24</td>\n",
       "      <td>5.656567</td>\n",
       "      <td>6.004272</td>\n",
       "    </tr>\n",
       "  </tbody>\n",
       "</table>\n",
       "</div>"
      ],
      "text/plain": [
       "     m        TE        TM\n",
       "0    0  2.056071  0.485997\n",
       "1    1  1.940682  0.774359\n",
       "2    2  2.002193  1.037871\n",
       "3    3  2.085341  1.289383\n",
       "4    4  2.186925  1.533547\n",
       "5    5  2.304090  1.772651\n",
       "6    6  2.434317  2.008013\n",
       "7    7  2.575437  2.240472\n",
       "8    8  2.725622  2.470600\n",
       "9    9  2.883353  2.698804\n",
       "10  10  3.047378  2.925390\n",
       "11  11  3.216671  3.150592\n",
       "12  12  3.390392  3.374591\n",
       "13  13  3.567851  3.597537\n",
       "14  14  3.748482  3.819548\n",
       "15  15  3.931818  4.040725\n",
       "16  16  4.117473  4.261150\n",
       "17  17  4.305125  4.480895\n",
       "18  18  4.494505  4.700021\n",
       "19  19  4.685388  4.918578\n",
       "20  20  4.877581  5.136614\n",
       "21  21  5.070924  5.354168\n",
       "22  22  5.265279  5.571275\n",
       "23  23  5.460527  5.787967\n",
       "24  24  5.656567  6.004272"
      ]
     },
     "execution_count": 62,
     "metadata": {},
     "output_type": "execute_result"
    }
   ],
   "source": [
    "WGM_m_table"
   ]
  },
  {
   "cell_type": "markdown",
   "metadata": {},
   "source": [
    "Curious: \n",
    "- why would the highest Q occur where the TE and TM modes are occurring right next to each other in the frequency space? "
   ]
  },
  {
   "cell_type": "code",
   "execution_count": null,
   "metadata": {},
   "outputs": [],
   "source": []
  }
 ],
 "metadata": {
  "kernelspec": {
   "display_name": "Python 3",
   "language": "python",
   "name": "python3"
  },
  "language_info": {
   "codemirror_mode": {
    "name": "ipython",
    "version": 3
   },
   "file_extension": ".py",
   "mimetype": "text/x-python",
   "name": "python",
   "nbconvert_exporter": "python",
   "pygments_lexer": "ipython3",
   "version": "3.11.5"
  }
 },
 "nbformat": 4,
 "nbformat_minor": 2
}

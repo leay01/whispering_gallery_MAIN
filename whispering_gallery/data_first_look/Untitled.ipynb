{
 "cells": [
  {
   "cell_type": "code",
   "execution_count": null,
   "id": "30b37f07-dad1-4f95-8ee5-e53a8903ce72",
   "metadata": {},
   "outputs": [],
   "source": [
    "import numpy as np \n",
    "import pandas as pd\n",
    "import cmath \n",
    "import matplotlib.pyplot as plt\n",
    "import glob\n",
    "import seabor"
   ]
  },
  {
   "cell_type": "markdown",
   "id": "a049b504",
   "metadata": {},
   "source": [
    "# Narrow Band (0.96 GHz Span)"
   ]
  },
  {
   "cell_type": "markdown",
   "id": "2b2aae24",
   "metadata": {},
   "source": []
  }
 ],
 "metadata": {
  "kernelspec": {
   "display_name": "Python 3 (ipykernel)",
   "language": "python",
   "name": "python3"
  },
  "language_info": {
   "codemirror_mode": {
    "name": "ipython",
    "version": 3
   },
   "file_extension": ".py",
   "mimetype": "text/x-python",
   "name": "python",
   "nbconvert_exporter": "python",
   "pygments_lexer": "ipython3",
   "version": "3.9.12"
  }
 },
 "nbformat": 4,
 "nbformat_minor": 5
}
